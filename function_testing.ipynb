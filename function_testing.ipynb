{
 "cells": [
  {
   "cell_type": "code",
   "execution_count": 17,
   "metadata": {},
   "outputs": [],
   "source": [
    "import numpy as np\n",
    "import matplotlib.pyplot as plt\n",
    "import graph_tool as gt\n",
    "import networkx as nx\n",
    "import os\n",
    "import random\n",
    "import csv"
   ]
  },
  {
   "cell_type": "code",
   "execution_count": 75,
   "metadata": {},
   "outputs": [
    {
     "data": {
      "text/plain": [
       "\"for time in [list(nodeList.keys())[0]]:\\n    for i in range(1):#random.randrange(5)):\\n        \\n        to_infect = random.randrange(node_num)\\n        print(i, to_infect, 'before ', nodeList[time][to_infect])\\n        nodeList[time][to_infect]['status'] = 'I'\\n        print(i, to_infect, 'during ', nodeList[time][to_infect])\\n        print(i, to_infect, 'during ', nodeList[time][to_infect+ 1])\\n\\n        #print(nodeList[time])\\n\\n        nodeList[time][to_infect]['infect_prob'] = round(random.random(), 3)\\n        print(i, to_infect, 'after ', nodeList[time][to_infect])\\n        #print(nodeList[time])\\n        \\n        #to_recver = random.randrange(node_num)\\n        \\n        #print(i, to_recver, 'before ', nodeList[time][to_recver])\\n        #nodeList[time][to_recver]['status'] = 'R'\\n        #nodeList[time][to_recver]['infect_prob'] = 0.0\\n        \\n        #print(i, to_recver, 'after ', nodeList[time][to_recver])\\n        #print(i, to_infect, to_recver)\\n        \\n#for n in nodeList[list(nodeList.keys())[1]].keys():\\n    #print(nodeList[list(nodeList.keys())[1]][n])\""
      ]
     },
     "execution_count": 75,
     "metadata": {},
     "output_type": "execute_result"
    }
   ],
   "source": [
    "# use this to import sociopatterns data\n",
    "def import_temporal_networks(filename, delimiter):\n",
    "    temporalEdgeList = dict()\n",
    "    node_num = set([])\n",
    "    with open(filename) as contactData:\n",
    "        contactList = csv.reader(contactData, delimiter=delimiter)\n",
    "        for contact in contactList:\n",
    "            t = float(contact[0])\n",
    "            i = int(contact[1])\n",
    "            j = int(contact[2])\n",
    "            node_num.add(i)\n",
    "            node_num.add(j)\n",
    "            try:\n",
    "                temporalEdgeList[t].extend([(i,j), (j,i)])\n",
    "            except:\n",
    "                temporalEdgeList[t] =[(i,j), (j,i)]\n",
    "    return len(node_num), temporalEdgeList\n",
    "\n",
    "num_nodes, edgeList = import_temporal_networks(\"Data/School/High-School_data_2013.csv\", \" \")\n",
    "\n",
    "default_node_attrs = {'status': 'S', 'infect_time': -1, 'infect_prob': 0.0, 'remove_time': -1}\n",
    "nodeList = {t:{n:default_node_attrs for n in range(num_nodes)} for t in list(edgeList.keys())}\n",
    "\n",
    "'''for time in [list(nodeList.keys())[0]]:\n",
    "    for i in range(1):#random.randrange(5)):\n",
    "        \n",
    "        to_infect = random.randrange(node_num)\n",
    "        print(i, to_infect, 'before ', nodeList[time][to_infect])\n",
    "        nodeList[time][to_infect]['status'] = 'I'\n",
    "        print(i, to_infect, 'during ', nodeList[time][to_infect])\n",
    "        print(i, to_infect, 'during ', nodeList[time][to_infect+ 1])\n",
    "\n",
    "        #print(nodeList[time])\n",
    "\n",
    "        nodeList[time][to_infect]['infect_prob'] = round(random.random(), 3)\n",
    "        print(i, to_infect, 'after ', nodeList[time][to_infect])\n",
    "        #print(nodeList[time])\n",
    "        \n",
    "        #to_recver = random.randrange(node_num)\n",
    "        \n",
    "        #print(i, to_recver, 'before ', nodeList[time][to_recver])\n",
    "        #nodeList[time][to_recver]['status'] = 'R'\n",
    "        #nodeList[time][to_recver]['infect_prob'] = 0.0\n",
    "        \n",
    "        #print(i, to_recver, 'after ', nodeList[time][to_recver])\n",
    "        #print(i, to_infect, to_recver)\n",
    "        \n",
    "#for n in nodeList[list(nodeList.keys())[1]].keys():\n",
    "    #print(nodeList[list(nodeList.keys())[1]][n])'''\n"
   ]
  },
  {
   "cell_type": "code",
   "execution_count": 76,
   "metadata": {},
   "outputs": [
    {
     "name": "stdout",
     "output_type": "stream",
     "text": [
      "Drawing the graph for time 1385982020.0\n",
      "35\n"
     ]
    },
    {
     "data": {
      "image/png": "[encoded data removed]",
      "text/plain": [
       "<Figure size 576x576 with 1 Axes>"
      ]
     },
     "metadata": {},
     "output_type": "display_data"
    }
   ],
   "source": [
    "def drawContagion(edgeList, nodeList, exp_name = ''):\n",
    "    \n",
    "    if not os.path.exists('output/' + exp_name):\n",
    "        os.makedirs('output/' + exp_name)\n",
    "    \n",
    "    pos = None\n",
    "    for ts in [list(edgeList.keys())[0]]: #list(edgeList.keys())):\n",
    "        print('Drawing the graph for time ' + str(ts))\n",
    "        \n",
    "        I = []\n",
    "        S = []\n",
    "        R = []\n",
    "        \n",
    "        G = nx.Graph()\n",
    "        G.add_nodes_from(list(nodeList[ts].keys()))\n",
    "        #print('Nodes: ', G.nodes())\n",
    "        #print(edgeList[ts])\n",
    "        G.add_edges_from(edgeList[ts])\n",
    "        #nx.draw(G)\n",
    "        \n",
    "\n",
    "        # make a graph from edgelist\n",
    "        for n, attr in nodeList[ts].items():\n",
    "            if attr['status'] == 'I':\n",
    "                I.append(n)\n",
    "            elif attr['status'] == 'S':\n",
    "                S.append(n)\n",
    "            elif attr['status'] == 'R':\n",
    "                R.append(n)\n",
    "        plt.figure(figsize = (8,8))\n",
    "        print(len(G.edges()))\n",
    "        if pos is None:\n",
    "            pos=nx.spring_layout(G) # positions for all nodes\n",
    "\n",
    "        # nodes\n",
    "        nx.draw_networkx_nodes(G,pos,\n",
    "                       nodelist=I,\n",
    "                       node_color='r',\n",
    "                       node_size=25,\n",
    "                       alpha=0.8,\n",
    "                       label = 'I')\n",
    "        nx.draw_networkx_nodes(G,pos,\n",
    "                       nodelist=S,\n",
    "                       node_color='b',\n",
    "                       node_size=25,\n",
    "                       alpha=0.8,\n",
    "                       label = 'S')\n",
    "        nx.draw_networkx_nodes(G,pos,\n",
    "                       nodelist=R,\n",
    "                       node_color='c',\n",
    "                       node_size=25,\n",
    "                       alpha=0.8,\n",
    "                       label = 'R')\n",
    "\n",
    "        # edges\n",
    "        nx.draw_networkx_edges(G,pos,width=1.0,alpha=0.5, edge_cmap = 'Reds')\n",
    "        #nx.draw_networkx_edges(G,pos, edgelist=[(0,1),(1,2),(2,3),(3,0)],alpha=0.5,edge_color='r')\n",
    "        \n",
    "        #nx.draw_networkx_edges(G,pos, edgelist=[(4,5),(5,6),(6,7),(7,4)], width=8,alpha=0.5,edge_color='b')\n",
    "\n",
    "\n",
    "        # some labels\n",
    "        #labels={n:vals['status'] for n,vals in nodeList[ts].items()}\n",
    "\n",
    "        #nx.draw_networkx_labels(G,pos,labels,font_size=16)\n",
    "\n",
    "        plt.axis('off')\n",
    "\n",
    "        plt.savefig('simTime_{0:05f}.jpg'.format(ts), bbox_inches = 'tight')\n",
    "                \n",
    "drawContagion(edgeList, nodeList, exp_name = 'testing_drawFunc_randomeDynamics/')"
   ]
  },
  {
   "cell_type": "code",
   "execution_count": null,
   "metadata": {},
   "outputs": [],
   "source": []
  }
 ],
 "metadata": {
  "kernelspec": {
   "display_name": "Python 3",
   "language": "python",
   "name": "python3"
  },
  "language_info": {
   "codemirror_mode": {
    "name": "ipython",
    "version": 3
   },
   "file_extension": ".py",
   "mimetype": "text/x-python",
   "name": "python",
   "nbconvert_exporter": "python",
   "pygments_lexer": "ipython3",
   "version": "3.8.5"
  }
 },
 "nbformat": 4,
 "nbformat_minor": 4
}
